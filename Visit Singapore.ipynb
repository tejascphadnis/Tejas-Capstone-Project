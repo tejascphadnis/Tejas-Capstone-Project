{
 "cells": [
  {
   "cell_type": "markdown",
   "metadata": {
    "deletable": true,
    "editable": true
   },
   "source": [
    "# Visit Singapore"
   ]
  },
  {
   "cell_type": "markdown",
   "metadata": {
    "deletable": true,
    "editable": true
   },
   "source": [
    "As per [Singapore Tourism Bord (STB) Media Release](https://www.stb.gov.sg/news-and-publications/lists/newsroom/dispform.aspx?ID=696) tourism performance hit historical high in 2016. Visitor arrivals grew by 7.7 per cent to 16.4 million\n",
    "\n",
    "There are several attractions in Singapore. Each attaraction tries hard to remain competitive.\n",
    "\n",
    "The tourism industry thrives on information. Data-driven, evidence based decisions are possible due to the enormous new big data repositories.Travellers leave different digital traces behind on the Web when using mobile technologies. "
   ]
  },
  {
   "cell_type": "markdown",
   "metadata": {
    "deletable": true,
    "editable": true
   },
   "source": [
    "### Problem Statement"
   ]
  },
  {
   "cell_type": "markdown",
   "metadata": {
    "deletable": true,
    "editable": true
   },
   "source": [
    "Design a digital support system to:\n",
    "\n",
    "* Analyze selected web & social media data about two most popular tourist attractions of Singapore namely, Universal Studios, Singapore and Gardens by the Bay.\n",
    "\n",
    "* Use these finding to predict number of tourists visiting these attractions in next three months.\n"
   ]
  },
  {
   "cell_type": "markdown",
   "metadata": {
    "deletable": true,
    "editable": true
   },
   "source": [
    "### Business Benefits"
   ]
  },
  {
   "cell_type": "markdown",
   "metadata": {
    "deletable": true,
    "editable": true
   },
   "source": [
    "__Travellers:__\n",
    "    \n",
    "* Get consolidated information to make informed decision.\n",
    "* Compare tourist attractions to plan travel.\n",
    "\n",
    "__Administrators:__\n",
    "* Review negative feedback  & take corrective steps\n",
    "* Use prediction of number of tourist to implement flexible ticket pricing, promotions, adequate security arrangements and other logistic operations.\n"
   ]
  },
  {
   "cell_type": "markdown",
   "metadata": {
    "deletable": true,
    "editable": true
   },
   "source": [
    "<img src=\"Data Sources.JPG\">"
   ]
  },
  {
   "cell_type": "markdown",
   "metadata": {
    "deletable": true,
    "editable": true
   },
   "source": [
    "### Data Source 1 - TripAdvisor Reviews"
   ]
  },
  {
   "cell_type": "markdown",
   "metadata": {
    "deletable": true,
    "editable": true
   },
   "source": [
    "|Feature   |Description           |\n",
    "|----------|----------------------|\n",
    "|Attraction|Name of the attraction|\n",
    "|Attraction Type|Attraction type e.g. Theme Park, Gardens, Nature & Park|\n",
    "|Review Month|YearMonth (YYYYMM) when review is recorded|\n",
    "|Visit Month|YearMonth (YYYYMM) of actual visit|\n",
    "|Reviewer Rating|On the scale of 1 to 5 where 1 = Terrible and 5 = Excellent|\n",
    "|Reviewer Level|On the scale of 1 to 10|\n",
    "|Reason for Poor Rating|Extract reason from Text &/or Long Text. Broadly divided into five categories; expensive, long queue, ongoing maintenance, staff and others.|\n",
    "|Reviewer Type|Five categories of Reviewers; family, couples, solo, business and friends.|\n",
    "|Text|High level review description.|\n",
    "|Long Text|Detailed review text.|\n",
    "\n"
   ]
  },
  {
   "cell_type": "markdown",
   "metadata": {
    "deletable": true,
    "editable": true
   },
   "source": [
    "##### Data Collection\n",
    "\n",
    "We will use WebScraping to extract data from TripAdvisor - In Progress\n",
    "\n",
    "Link for dummy file:\n",
    "[sample TripAdvisor Data](https://github.com/tejascphadnis/visitsingapore/blob/master/Reviews.csv)\n",
    "\n"
   ]
  },
  {
   "cell_type": "markdown",
   "metadata": {
    "deletable": true,
    "editable": true
   },
   "source": [
    "<img src=\"reviews_g1.JPG\">\n",
    "\n",
    "<img src=\"reviews_g2.JPG\">"
   ]
  },
  {
   "cell_type": "markdown",
   "metadata": {
    "deletable": true,
    "editable": true
   },
   "source": [
    "### Data Source 2 - Twitter"
   ]
  },
  {
   "cell_type": "markdown",
   "metadata": {
    "deletable": true,
    "editable": true
   },
   "source": [
    "|Feature   |Description           |\n",
    "|----------|----------------------|\n",
    "|Attraction|Name of the attraction|\n",
    "|Attraction Type|Attraction type e.g. Theme Park, Gardens, Nature & Park|\n",
    "|Month|YearMonth (YYYYMM)|\n",
    "|No. Of  Tweets|Total number of tweets|\n",
    "|Positive Tweets|Number of Positive Tweets|\n",
    "|Negative Tweets|Number of Negative Tweets|\n",
    "|Neutral Tweets|Number of Neutral Tweets|\n",
    "|Location|Location of geotagged tweets|"
   ]
  },
  {
   "cell_type": "markdown",
   "metadata": {
    "deletable": true,
    "editable": true
   },
   "source": [
    "### Data Source 3 - Google Trends"
   ]
  },
  {
   "cell_type": "markdown",
   "metadata": {
    "deletable": true,
    "editable": true
   },
   "source": [
    "|Feature   |Description           |\n",
    "|----------|----------------------|\n",
    "|Attraction|Name of the attraction|\n",
    "|Attraction Type|Attraction type e.g. Theme Park, Gardens, Nature & Park|\n",
    "|Month|YearMonth (YYYYMM)|\n",
    "|No. Of  Web Searches|Google Trend data (topic search) for month YYYYMM|\n",
    "|Region 1|Location where search term was most popular|\n",
    "|Region 2|Location where search term was 2nd most popular|\n",
    "|Region 3|Location where search term was 3rd most popular|"
   ]
  },
  {
   "cell_type": "markdown",
   "metadata": {
    "deletable": true,
    "editable": true
   },
   "source": [
    "### Data Source 4 - STB data"
   ]
  },
  {
   "cell_type": "markdown",
   "metadata": {
    "deletable": true,
    "editable": true
   },
   "source": [
    "__Monthly Tourist Data__\n",
    "\n",
    "|Feature   |Description           |\n",
    "|----------|----------------------|\n",
    "|Month|YearMonth (YYYYMM)|\n",
    "|Number of Tourists|Total number of tourist|\n",
    "\n",
    "__Hotel Booking Data__\n",
    "\n",
    "|Feature   |Description           |\n",
    "|----------|----------------------|\n",
    "|Month|YearMonth (YYYYMM)|\n",
    "|Available Rooms|Available Room-Nights (Number)|\n",
    "|Occupied Rooms|Gross Lettings (Room-Nights) (Number)|\n",
    "|Occupancy Rate|Standard Average Hotel Occupancy Rate (Per Cent)|"
   ]
  },
  {
   "cell_type": "code",
   "execution_count": null,
   "metadata": {
    "collapsed": true,
    "deletable": true,
    "editable": true
   },
   "outputs": [],
   "source": []
  }
 ],
 "metadata": {
  "kernelspec": {
   "display_name": "Python 2",
   "language": "python",
   "name": "python2"
  },
  "language_info": {
   "codemirror_mode": {
    "name": "ipython",
    "version": 2
   },
   "file_extension": ".py",
   "mimetype": "text/x-python",
   "name": "python",
   "nbconvert_exporter": "python",
   "pygments_lexer": "ipython2",
   "version": "2.7.13"
  }
 },
 "nbformat": 4,
 "nbformat_minor": 2
}
